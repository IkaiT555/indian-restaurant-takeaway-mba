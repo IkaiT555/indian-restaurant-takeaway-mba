{
  "cells": [
    {
      "cell_type": "markdown",
      "source": [
        "# Association rules mining.  Apriori algorithm"
      ],
      "metadata": {
        "id": "zZMoLVB7V_5t"
      }
    },
    {
      "cell_type": "markdown",
      "source": [
        "For this project, I used the efficient-apriori library instead of alternatives like mlxtend.frequent_patterns.\n",
        "\n",
        "I this library because it allows running Apriori algorithm directly on transaction lists, without converting data into a wide, one-hot encoded table (which would require over 300 binary columns). This makes it both faster and more memory-efficient for this dataset, while still providing clear and interpretable association rules."
      ],
      "metadata": {
        "id": "Gv4z8YdBcScM"
      }
    },
    {
      "cell_type": "code",
      "execution_count": 1,
      "metadata": {
        "colab": {
          "base_uri": "https://localhost:8080/"
        },
        "collapsed": true,
        "id": "hyejPfWWpw_r",
        "outputId": "f6f81300-dbff-4708-cb47-de7c816772dd"
      },
      "outputs": [
        {
          "output_type": "stream",
          "name": "stdout",
          "text": [
            "Collecting efficient-apriori\n",
            "  Downloading efficient_apriori-2.0.6-py3-none-any.whl.metadata (6.7 kB)\n",
            "Downloading efficient_apriori-2.0.6-py3-none-any.whl (14 kB)\n",
            "Installing collected packages: efficient-apriori\n",
            "Successfully installed efficient-apriori-2.0.6\n"
          ]
        }
      ],
      "source": [
        "! pip install efficient-apriori"
      ]
    },
    {
      "cell_type": "code",
      "execution_count": 2,
      "metadata": {
        "id": "_hVwryFiOGsb"
      },
      "outputs": [],
      "source": [
        "from efficient_apriori import apriori\n",
        "import pandas as pd\n",
        "orders = pd.read_csv(\"takeaway_orders.csv\")"
      ]
    },
    {
      "cell_type": "code",
      "execution_count": 7,
      "metadata": {
        "id": "NlGKoGG6ON2C"
      },
      "outputs": [],
      "source": [
        "# transactions = list of baskets, for example [['naan','pilau rice'], ['papadum','chutney','naan'], ...]\n",
        "transactions = (orders.groupby('Order ID')['Item Name']\n",
        "                        .apply(list)\n",
        "                        .tolist())\n",
        "itemsets, rules = apriori(transactions,  min_support=0.01, min_confidence=0.2)  # default min_confidence is 0.5"
      ]
    },
    {
      "cell_type": "markdown",
      "metadata": {
        "id": "0eLQgjEO9qaU"
      },
      "source": [
        "Itemsets are generated from 1 to 5 items in the itemset. Shown with the itemset frequency, respectively. Considering minimum support treshold of 1% and overall number of orders ≈ 20,000, minimum frequency is ~200 orders for an itemset."
      ]
    },
    {
      "cell_type": "code",
      "execution_count": 8,
      "metadata": {
        "colab": {
          "base_uri": "https://localhost:8080/",
          "height": 104
        },
        "id": "6yBiRSI9_EFc",
        "outputId": "aa0f0b17-6d78-4b99-ec32-637319296298"
      },
      "outputs": [
        {
          "output_type": "display_data",
          "data": {
            "text/plain": [
              "3435"
            ]
          },
          "metadata": {}
        },
        {
          "output_type": "display_data",
          "data": {
            "text/plain": [
              "740"
            ]
          },
          "metadata": {}
        },
        {
          "output_type": "display_data",
          "data": {
            "text/plain": [
              "812"
            ]
          },
          "metadata": {}
        },
        {
          "output_type": "display_data",
          "data": {
            "text/plain": [
              "244"
            ]
          },
          "metadata": {}
        },
        {
          "output_type": "display_data",
          "data": {
            "text/plain": [
              "248"
            ]
          },
          "metadata": {}
        }
      ],
      "source": [
        "#itemsets is dict of dict\n",
        "#example of some itemsets and their frequency\n",
        "display(itemsets[1][('mango chutney',)],\n",
        "        itemsets[2][('garlic naan', 'naan',)],\n",
        "        itemsets[3][('onion bhaji', 'pilau rice','plain papadum')],\n",
        "        itemsets[4][('garlic naan','mango chutney','mint sauce','plain papadum')],\n",
        "        itemsets[5][('mango chutney','mint sauce','onion chutney','pilau rice','plain papadum')])"
      ]
    },
    {
      "cell_type": "markdown",
      "metadata": {
        "id": "ZIdTE_R7EfKf"
      },
      "source": [
        "The algorithm is based on the observation that for {a, b} -> {c, d} to hold, both {a, b, c} -> {d} and {a, b, d} -> {c} must hold, since in general conf( {a, b, c} -> {d} ) >= conf( {a, b} -> {c, d} ). In other words, if either of the two one-consequent rules do not hold, then there is no need to ever consider the two-consequent rule."
      ]
    },
    {
      "cell_type": "code",
      "execution_count": 9,
      "metadata": {
        "colab": {
          "base_uri": "https://localhost:8080/"
        },
        "id": "qmdtfuW11KBV",
        "outputId": "2031f7e3-56b8-45b1-f467-a316424282a5"
      },
      "outputs": [
        {
          "output_type": "execute_result",
          "data": {
            "text/plain": [
              "1613"
            ]
          },
          "metadata": {},
          "execution_count": 9
        }
      ],
      "source": [
        "#class efficient_apriori.Rule\n",
        "len(rules)"
      ]
    },
    {
      "cell_type": "markdown",
      "metadata": {
        "id": "LJxlOYDWNYBh"
      },
      "source": [
        "Association rules with the smallest and the biggets numbers of support, lift and confidence along with some random rules were compared to those received in Tableau dashboars. Confirmed identical results, and so - absence of noticable mistakes or discrepancies in calculations and conclusions."
      ]
    },
    {
      "cell_type": "code",
      "execution_count": 10,
      "metadata": {
        "colab": {
          "base_uri": "https://localhost:8080/"
        },
        "id": "LFkQNjBoQufx",
        "outputId": "731447d5-3954-4c63-ca60-b2f33f3926a2"
      },
      "outputs": [
        {
          "output_type": "stream",
          "name": "stdout",
          "text": [
            "{pilau rice} -> {naan} (conf: 0.418, supp: 0.178, lift: 1.231, conv: 1.135)\n",
            "{naan} -> {pilau rice} (conf: 0.524, supp: 0.178, lift: 1.231, conv: 1.206)\n",
            "{plain papadum} -> {pilau rice} (conf: 0.504, supp: 0.165, lift: 1.184, conv: 1.158)\n",
            "{pilau rice} -> {plain papadum} (conf: 0.387, supp: 0.165, lift: 1.184, conv: 1.098)\n",
            "{plain papadum} -> {mango chutney} (conf: 0.457, supp: 0.150, lift: 2.618, conv: 1.521)\n",
            "{mango chutney} -> {plain papadum} (conf: 0.856, supp: 0.150, lift: 2.618, conv: 4.688)\n",
            "{plain papadum} -> {naan} (conf: 0.387, supp: 0.127, lift: 1.140, conv: 1.077)\n",
            "{naan} -> {plain papadum} (conf: 0.373, supp: 0.127, lift: 1.140, conv: 1.073)\n",
            "{pilau rice} -> {chicken tikka masala} (conf: 0.267, supp: 0.114, lift: 1.504, conv: 1.122)\n",
            "{chicken tikka masala} -> {pilau rice} (conf: 0.640, supp: 0.114, lift: 1.504, conv: 1.597)\n",
            "{pilau rice} -> {bombay aloo} (conf: 0.264, supp: 0.112, lift: 1.255, conv: 1.073)\n",
            "{bombay aloo} -> {pilau rice} (conf: 0.534, supp: 0.112, lift: 1.255, conv: 1.233)\n",
            "{plain papadum} -> {mint sauce} (conf: 0.304, supp: 0.100, lift: 2.395, conv: 1.255)\n",
            "{mint sauce} -> {plain papadum} (conf: 0.783, supp: 0.100, lift: 2.395, conv: 3.107)\n",
            "{naan} -> {bombay aloo} (conf: 0.280, supp: 0.095, lift: 1.331, conv: 1.097)\n",
            "{bombay aloo} -> {naan} (conf: 0.452, supp: 0.095, lift: 1.331, conv: 1.205)\n",
            "{pilau rice} -> {garlic naan} (conf: 0.217, supp: 0.092, lift: 1.089, conv: 1.023)\n",
            "{garlic naan} -> {pilau rice} (conf: 0.464, supp: 0.092, lift: 1.089, conv: 1.070)\n",
            "{pilau rice} -> {mango chutney} (conf: 0.205, supp: 0.087, lift: 1.173, conv: 1.038)\n",
            "{mango chutney} -> {pilau rice} (conf: 0.499, supp: 0.087, lift: 1.173, conv: 1.147)\n",
            "{onion bhaji} -> {pilau rice} (conf: 0.455, supp: 0.083, lift: 1.069, conv: 1.054)\n",
            "{plain papadum} -> {bombay aloo} (conf: 0.246, supp: 0.081, lift: 1.173, conv: 1.048)\n",
            "{bombay aloo} -> {plain papadum} (conf: 0.384, supp: 0.081, lift: 1.173, conv: 1.092)\n",
            "{plain papadum} -> {onion bhaji} (conf: 0.238, supp: 0.078, lift: 1.301, conv: 1.072)\n",
            "{onion bhaji} -> {plain papadum} (conf: 0.426, supp: 0.078, lift: 1.301, conv: 1.171)\n",
            "{pilau rice, plain papadum} -> {mango chutney} (conf: 0.470, supp: 0.077, lift: 2.688, conv: 1.556)\n",
            "{mango chutney, plain papadum} -> {pilau rice} (conf: 0.518, supp: 0.077, lift: 1.216, conv: 1.191)\n",
            "{mango chutney, pilau rice} -> {plain papadum} (conf: 0.888, supp: 0.077, lift: 2.715, conv: 6.010)\n",
            "{plain papadum} -> {mango chutney, pilau rice} (conf: 0.237, supp: 0.077, lift: 2.715, conv: 1.196)\n",
            "{mango chutney} -> {pilau rice, plain papadum} (conf: 0.443, supp: 0.077, lift: 2.688, conv: 1.500)\n",
            "{naan} -> {chicken tikka masala} (conf: 0.228, supp: 0.077, lift: 1.284, conv: 1.065)\n",
            "{chicken tikka masala} -> {naan} (conf: 0.436, supp: 0.077, lift: 1.284, conv: 1.171)\n",
            "{plain papadum} -> {onion chutney} (conf: 0.236, supp: 0.077, lift: 2.552, conv: 1.187)\n",
            "{onion chutney} -> {plain papadum} (conf: 0.835, supp: 0.077, lift: 2.552, conv: 4.071)\n",
            "{pilau rice, plain papadum} -> {naan} (conf: 0.457, supp: 0.075, lift: 1.346, conv: 1.217)\n",
            "{naan, plain papadum} -> {pilau rice} (conf: 0.596, supp: 0.075, lift: 1.399, conv: 1.420)\n",
            "{naan, pilau rice} -> {plain papadum} (conf: 0.424, supp: 0.075, lift: 1.295, conv: 1.168)\n",
            "{plain papadum} -> {naan, pilau rice} (conf: 0.231, supp: 0.075, lift: 1.295, conv: 1.068)\n",
            "{naan} -> {pilau rice, plain papadum} (conf: 0.222, supp: 0.075, lift: 1.346, conv: 1.073)\n",
            "{plain papadum} -> {garlic naan} (conf: 0.226, supp: 0.074, lift: 1.135, conv: 1.035)\n",
            "{garlic naan} -> {plain papadum} (conf: 0.371, supp: 0.074, lift: 1.135, conv: 1.070)\n",
            "{naan} -> {mango chutney} (conf: 0.208, supp: 0.071, lift: 1.192, conv: 1.042)\n",
            "{mango chutney} -> {naan} (conf: 0.405, supp: 0.071, lift: 1.192, conv: 1.110)\n",
            "{plain rice} -> {naan} (conf: 0.479, supp: 0.068, lift: 1.411, conv: 1.268)\n",
            "{naan} -> {plain rice} (conf: 0.201, supp: 0.068, lift: 1.411, conv: 1.073)\n",
            "{keema naan} -> {pilau rice} (conf: 0.534, supp: 0.067, lift: 1.255, conv: 1.233)\n",
            "{plain papadum} -> {chicken tikka masala} (conf: 0.202, supp: 0.066, lift: 1.140, conv: 1.031)\n",
            "{chicken tikka masala} -> {plain papadum} (conf: 0.373, supp: 0.066, lift: 1.140, conv: 1.073)\n",
            "{mint sauce} -> {pilau rice} (conf: 0.518, supp: 0.066, lift: 1.216, conv: 1.190)\n",
            "{red sauce} -> {plain papadum} (conf: 0.844, supp: 0.062, lift: 2.581, conv: 4.326)\n",
            "{naan, plain papadum} -> {mango chutney} (conf: 0.487, supp: 0.062, lift: 2.788, conv: 1.609)\n",
            "{mango chutney, plain papadum} -> {naan} (conf: 0.412, supp: 0.062, lift: 1.214, conv: 1.123)\n",
            "{mango chutney, naan} -> {plain papadum} (conf: 0.872, supp: 0.062, lift: 2.666, conv: 5.258)\n",
            "{mango chutney} -> {naan, plain papadum} (conf: 0.353, supp: 0.062, lift: 2.788, conv: 1.350)\n",
            "{onion bhaji} -> {naan} (conf: 0.331, supp: 0.060, lift: 0.973, conv: 0.986)\n",
            "{plain rice} -> {plain papadum} (conf: 0.420, supp: 0.060, lift: 1.283, conv: 1.159)\n",
            "{peshwari naan} -> {pilau rice} (conf: 0.536, supp: 0.059, lift: 1.258, conv: 1.237)\n",
            "{mint sauce} -> {mango chutney} (conf: 0.448, supp: 0.057, lift: 2.564, conv: 1.495)\n",
            "{mango chutney} -> {mint sauce} (conf: 0.326, supp: 0.057, lift: 2.564, conv: 1.295)\n",
            "{pilau rice, plain papadum} -> {mint sauce} (conf: 0.330, supp: 0.054, lift: 2.600, conv: 1.304)\n",
            "{mint sauce, plain papadum} -> {pilau rice} (conf: 0.547, supp: 0.054, lift: 1.285, conv: 1.268)\n",
            "{mint sauce, pilau rice} -> {plain papadum} (conf: 0.828, supp: 0.054, lift: 2.532, conv: 3.919)\n",
            "{mint sauce} -> {pilau rice, plain papadum} (conf: 0.429, supp: 0.054, lift: 2.600, conv: 1.462)\n",
            "{naan, pilau rice} -> {chicken tikka masala} (conf: 0.292, supp: 0.052, lift: 1.645, conv: 1.161)\n",
            "{chicken tikka masala, pilau rice} -> {naan} (conf: 0.457, supp: 0.052, lift: 1.346, conv: 1.216)\n",
            "{chicken tikka masala, naan} -> {pilau rice} (conf: 0.671, supp: 0.052, lift: 1.577, conv: 1.747)\n",
            "{chicken tikka masala} -> {naan, pilau rice} (conf: 0.293, supp: 0.052, lift: 1.645, conv: 1.162)\n",
            "{onion chutney} -> {mango chutney} (conf: 0.560, supp: 0.052, lift: 3.207, conv: 1.877)\n",
            "{mango chutney} -> {onion chutney} (conf: 0.296, supp: 0.052, lift: 3.207, conv: 1.289)\n",
            "{mint sauce, plain papadum} -> {mango chutney} (conf: 0.519, supp: 0.052, lift: 2.968, conv: 1.714)\n",
            "{mango chutney, plain papadum} -> {mint sauce} (conf: 0.345, supp: 0.052, lift: 2.715, conv: 1.333)\n",
            "{mango chutney, mint sauce} -> {plain papadum} (conf: 0.907, supp: 0.052, lift: 2.773, conv: 7.240)\n",
            "{mint sauce} -> {mango chutney, plain papadum} (conf: 0.406, supp: 0.052, lift: 2.715, conv: 1.432)\n",
            "{mango chutney} -> {mint sauce, plain papadum} (conf: 0.295, supp: 0.052, lift: 2.968, conv: 1.278)\n",
            "{korma} -> {pilau rice} (conf: 0.581, supp: 0.050, lift: 1.365, conv: 1.372)\n",
            "{naan, pilau rice} -> {bombay aloo} (conf: 0.282, supp: 0.050, lift: 1.342, conv: 1.100)\n",
            "{bombay aloo, pilau rice} -> {naan} (conf: 0.447, supp: 0.050, lift: 1.316, conv: 1.194)\n",
            "{bombay aloo, naan} -> {pilau rice} (conf: 0.528, supp: 0.050, lift: 1.240, conv: 1.217)\n",
            "{bombay aloo} -> {naan, pilau rice} (conf: 0.239, supp: 0.050, lift: 1.342, conv: 1.080)\n",
            "{mushroom rice} -> {plain papadum} (conf: 0.329, supp: 0.050, lift: 1.007, conv: 1.003)\n",
            "{mushroom rice} -> {pilau rice} (conf: 0.325, supp: 0.049, lift: 0.763, conv: 0.850)\n",
            "{onion chutney, plain papadum} -> {mango chutney} (conf: 0.632, supp: 0.049, lift: 3.619, conv: 2.245)\n",
            "{mango chutney, plain papadum} -> {onion chutney} (conf: 0.326, supp: 0.049, lift: 3.527, conv: 1.346)\n",
            "{mango chutney, onion chutney} -> {plain papadum} (conf: 0.942, supp: 0.049, lift: 2.879, conv: 11.598)\n",
            "{onion chutney} -> {mango chutney, plain papadum} (conf: 0.528, supp: 0.049, lift: 3.527, conv: 1.801)\n",
            "{mango chutney} -> {onion chutney, plain papadum} (conf: 0.279, supp: 0.049, lift: 3.619, conv: 1.280)\n",
            "{saag aloo} -> {pilau rice} (conf: 0.462, supp: 0.048, lift: 1.084, conv: 1.066)\n",
            "{mint sauce} -> {naan} (conf: 0.373, supp: 0.047, lift: 1.099, conv: 1.054)\n",
            "{onion chutney} -> {pilau rice} (conf: 0.513, supp: 0.047, lift: 1.206, conv: 1.180)\n",
            "{chicken tikka masala} -> {bombay aloo} (conf: 0.262, supp: 0.046, lift: 1.245, conv: 1.070)\n",
            "{bombay aloo} -> {chicken tikka masala} (conf: 0.221, supp: 0.046, lift: 1.245, conv: 1.056)\n",
            "{onion bhaji} -> {mango chutney} (conf: 0.252, supp: 0.046, lift: 1.443, conv: 1.104)\n",
            "{mango chutney} -> {onion bhaji} (conf: 0.264, supp: 0.046, lift: 1.443, conv: 1.110)\n",
            "{keema naan} -> {plain papadum} (conf: 0.364, supp: 0.046, lift: 1.113, conv: 1.058)\n",
            "{pilau rice, plain papadum} -> {chicken tikka masala} (conf: 0.274, supp: 0.045, lift: 1.544, conv: 1.133)\n",
            "{chicken tikka masala, plain papadum} -> {pilau rice} (conf: 0.683, supp: 0.045, lift: 1.604, conv: 1.812)\n",
            "{chicken tikka masala, pilau rice} -> {plain papadum} (conf: 0.398, supp: 0.045, lift: 1.216, conv: 1.117)\n",
            "{chicken tikka masala} -> {pilau rice, plain papadum} (conf: 0.255, supp: 0.045, lift: 1.544, conv: 1.120)\n",
            "{madras} -> {pilau rice} (conf: 0.527, supp: 0.045, lift: 1.238, conv: 1.214)\n",
            "{pilau rice, plain papadum} -> {bombay aloo} (conf: 0.272, supp: 0.045, lift: 1.296, conv: 1.085)\n"
          ]
        }
      ],
      "source": [
        "# Print out every rule (first 100), sorted by support\n",
        "for r in sorted(rules, key=lambda rule: rule.support, reverse=True)[:100]:\n",
        "    print(r) # Prints the rule and its confidence, support, lift, conviction"
      ]
    },
    {
      "cell_type": "code",
      "execution_count": 15,
      "metadata": {
        "colab": {
          "base_uri": "https://localhost:8080/"
        },
        "id": "y8WhopXFt5rS",
        "outputId": "fab471d9-cf58-4e4e-f79d-5ee867b66e2f"
      },
      "outputs": [
        {
          "output_type": "stream",
          "name": "stdout",
          "text": [
            "{garlic naan} -> {chicken tikka masala} (conf: 0.205, supp: 0.041, lift: 1.156, conv: 1.035)\n",
            "{garlic naan} -> {plain papadum} (conf: 0.371, supp: 0.074, lift: 1.135, conv: 1.070)\n",
            "{garlic naan} -> {pilau rice} (conf: 0.464, supp: 0.092, lift: 1.089, conv: 1.070)\n"
          ]
        }
      ],
      "source": [
        "# Print out every rule with a specific dish on the left hand side, sorted by lift\n",
        "rules_filtered = filter(lambda rule:  rule.lhs == ('garlic naan',), rules)\n",
        "for rule in sorted(rules_filtered, key=lambda rule: rule.lift, reverse=True):\n",
        "  print(rule)"
      ]
    },
    {
      "cell_type": "code",
      "source": [
        "# Print out every rule with a specific dishes on the left hand side, sorted by confidence\n",
        "rules_filtered = filter(lambda rule:  ('garlic naan') in rule.lhs, rules)\n",
        "for rule in sorted(rules_filtered, key=lambda rule: rule.confidence, reverse=True):\n",
        "  print(rule)"
      ],
      "metadata": {
        "colab": {
          "base_uri": "https://localhost:8080/"
        },
        "id": "D4M_xxsMMQ74",
        "outputId": "ec8ee67f-2f5d-411c-f9e5-f24410d00565"
      },
      "execution_count": 19,
      "outputs": [
        {
          "output_type": "stream",
          "name": "stdout",
          "text": [
            "{garlic naan, mango chutney, onion chutney} -> {plain papadum} (conf: 0.966, supp: 0.011, lift: 2.951, conv: 19.513)\n",
            "{garlic naan, mango chutney, mini bhaji} -> {plain papadum} (conf: 0.964, supp: 0.011, lift: 2.948, conv: 18.840)\n",
            "{garlic naan, mango chutney, red sauce} -> {plain papadum} (conf: 0.962, supp: 0.012, lift: 2.942, conv: 17.868)\n",
            "{garlic naan, mango chutney, mint sauce} -> {plain papadum} (conf: 0.938, supp: 0.012, lift: 2.869, conv: 10.934)\n",
            "{bombay aloo, garlic naan, mango chutney} -> {plain papadum} (conf: 0.932, supp: 0.011, lift: 2.849, conv: 9.883)\n",
            "{garlic naan, mango chutney, pilau rice} -> {plain papadum} (conf: 0.912, supp: 0.020, lift: 2.789, conv: 7.674)\n",
            "{garlic naan, mango chutney} -> {plain papadum} (conf: 0.908, supp: 0.036, lift: 2.776, conv: 7.317)\n",
            "{garlic naan, onion chutney} -> {plain papadum} (conf: 0.893, supp: 0.015, lift: 2.729, conv: 6.280)\n",
            "{garlic naan, mint sauce} -> {plain papadum} (conf: 0.862, supp: 0.021, lift: 2.634, conv: 4.861)\n",
            "{garlic naan, mint sauce, pilau rice} -> {plain papadum} (conf: 0.860, supp: 0.013, lift: 2.629, conv: 4.811)\n",
            "{garlic naan, red sauce} -> {plain papadum} (conf: 0.856, supp: 0.020, lift: 2.617, conv: 4.679)\n",
            "{garlic naan, onion chutney, plain papadum} -> {mango chutney} (conf: 0.747, supp: 0.011, lift: 4.273, conv: 3.258)\n",
            "{garlic naan, naan, plain papadum} -> {pilau rice} (conf: 0.711, supp: 0.011, lift: 1.671, conv: 1.990)\n",
            "{garlic naan, mini bhaji, plain papadum} -> {mango chutney} (conf: 0.711, supp: 0.011, lift: 4.066, conv: 2.851)\n",
            "{garlic naan, onion chutney} -> {mango chutney} (conf: 0.690, supp: 0.012, lift: 3.951, conv: 2.666)\n",
            "{chicken tikka masala, garlic naan, plain papadum} -> {pilau rice} (conf: 0.676, supp: 0.011, lift: 1.588, conv: 1.774)\n",
            "{garlic naan, onion chutney} -> {mango chutney, plain papadum} (conf: 0.667, supp: 0.011, lift: 4.455, conv: 2.551)\n",
            "{chicken tikka masala, garlic naan} -> {pilau rice} (conf: 0.647, supp: 0.026, lift: 1.519, conv: 1.626)\n",
            "{garlic naan, peshwari naan} -> {pilau rice} (conf: 0.629, supp: 0.010, lift: 1.478, conv: 1.549)\n",
            "{garlic naan, korma} -> {pilau rice} (conf: 0.609, supp: 0.015, lift: 1.430, conv: 1.467)\n",
            "{garlic naan, madras} -> {pilau rice} (conf: 0.606, supp: 0.011, lift: 1.424, conv: 1.459)\n",
            "{garlic naan, mint sauce} -> {pilau rice} (conf: 0.591, supp: 0.015, lift: 1.388, conv: 1.404)\n",
            "{garlic naan, mint sauce, plain papadum} -> {pilau rice} (conf: 0.590, supp: 0.013, lift: 1.386, conv: 1.400)\n",
            "{garlic naan, naan} -> {pilau rice} (conf: 0.586, supp: 0.022, lift: 1.377, conv: 1.389)\n",
            "{garlic naan, plain papadum, red sauce} -> {mango chutney} (conf: 0.585, supp: 0.012, lift: 3.349, conv: 1.990)\n",
            "{garlic naan, mint sauce, plain papadum} -> {mango chutney} (conf: 0.585, supp: 0.012, lift: 3.349, conv: 1.989)\n",
            "{bombay aloo, garlic naan, plain papadum} -> {mango chutney} (conf: 0.573, supp: 0.011, lift: 3.281, conv: 1.934)\n",
            "{bombay aloo, garlic naan} -> {pilau rice} (conf: 0.560, supp: 0.022, lift: 1.315, conv: 1.304)\n",
            "{garlic naan, mango chutney, plain papadum} -> {pilau rice} (conf: 0.541, supp: 0.020, lift: 1.272, conv: 1.252)\n",
            "{garlic naan, mango chutney} -> {pilau rice} (conf: 0.539, supp: 0.021, lift: 1.266, conv: 1.245)\n",
            "{garlic naan, mini bhaji} -> {plain papadum} (conf: 0.538, supp: 0.015, lift: 1.645, conv: 1.457)\n",
            "{garlic naan, mint sauce} -> {mango chutney} (conf: 0.537, supp: 0.013, lift: 3.074, conv: 1.783)\n",
            "{bombay aloo, garlic naan, plain papadum} -> {pilau rice} (conf: 0.534, supp: 0.010, lift: 1.254, conv: 1.232)\n",
            "{garlic naan, mini bhaji} -> {pilau rice} (conf: 0.533, supp: 0.015, lift: 1.251, conv: 1.229)\n",
            "{butter chicken, garlic naan} -> {pilau rice} (conf: 0.532, supp: 0.011, lift: 1.250, conv: 1.227)\n",
            "{garlic naan, pilau rice, plain papadum} -> {mango chutney} (conf: 0.527, supp: 0.020, lift: 3.018, conv: 1.746)\n",
            "{garlic naan, red sauce} -> {mango chutney} (conf: 0.521, supp: 0.012, lift: 2.980, conv: 1.722)\n",
            "{garlic naan, mint sauce} -> {pilau rice, plain papadum} (conf: 0.508, supp: 0.013, lift: 3.082, conv: 1.698)\n",
            "{garlic naan, mint sauce} -> {mango chutney, plain papadum} (conf: 0.504, supp: 0.012, lift: 3.369, conv: 1.715)\n",
            "{garlic naan, plain papadum} -> {pilau rice} (conf: 0.501, supp: 0.037, lift: 1.178, conv: 1.152)\n",
            "{garlic naan, red sauce} -> {mango chutney, plain papadum} (conf: 0.501, supp: 0.012, lift: 3.348, conv: 1.704)\n",
            "{garlic naan, mango chutney} -> {pilau rice, plain papadum} (conf: 0.492, supp: 0.020, lift: 2.981, conv: 1.643)\n",
            "{bombay aloo, garlic naan} -> {plain papadum} (conf: 0.490, supp: 0.019, lift: 1.499, conv: 1.320)\n",
            "{garlic naan, onion bhaji} -> {plain papadum} (conf: 0.490, supp: 0.016, lift: 1.497, conv: 1.318)\n",
            "{garlic naan, naan, pilau rice} -> {plain papadum} (conf: 0.488, supp: 0.011, lift: 1.493, conv: 1.315)\n",
            "{garlic naan, plain papadum} -> {mango chutney} (conf: 0.488, supp: 0.036, lift: 2.795, conv: 1.613)\n",
            "{bombay aloo, garlic naan, pilau rice} -> {plain papadum} (conf: 0.468, supp: 0.010, lift: 1.430, conv: 1.265)\n",
            "{garlic naan} -> {pilau rice} (conf: 0.464, supp: 0.092, lift: 1.089, conv: 1.070)\n",
            "{garlic naan, onion bhaji} -> {pilau rice} (conf: 0.463, supp: 0.015, lift: 1.086, conv: 1.068)\n",
            "{garlic naan, saag aloo} -> {pilau rice} (conf: 0.461, supp: 0.013, lift: 1.084, conv: 1.066)\n",
            "{garlic naan, red sauce} -> {pilau rice} (conf: 0.442, supp: 0.010, lift: 1.039, conv: 1.030)\n",
            "{garlic naan, saag aloo} -> {plain papadum} (conf: 0.410, supp: 0.011, lift: 1.253, conv: 1.140)\n",
            "{garlic naan, mushroom rice} -> {plain papadum} (conf: 0.407, supp: 0.016, lift: 1.244, conv: 1.135)\n",
            "{chicken tikka masala, garlic naan, pilau rice} -> {plain papadum} (conf: 0.406, supp: 0.011, lift: 1.240, conv: 1.132)\n",
            "{garlic naan, naan} -> {plain papadum} (conf: 0.403, supp: 0.015, lift: 1.231, conv: 1.127)\n",
            "{garlic naan, pilau rice} -> {plain papadum} (conf: 0.402, supp: 0.037, lift: 1.228, conv: 1.125)\n",
            "{garlic naan, mini bhaji} -> {mango chutney} (conf: 0.396, supp: 0.011, lift: 2.269, conv: 1.367)\n",
            "{chicken tikka masala, garlic naan} -> {plain papadum} (conf: 0.388, supp: 0.016, lift: 1.186, conv: 1.100)\n",
            "{garlic naan, mini bhaji} -> {mango chutney, plain papadum} (conf: 0.382, supp: 0.011, lift: 2.554, conv: 1.377)\n",
            "{garlic naan} -> {plain papadum} (conf: 0.371, supp: 0.074, lift: 1.135, conv: 1.070)\n",
            "{garlic naan, mango chutney, plain papadum} -> {mint sauce} (conf: 0.343, supp: 0.012, lift: 2.701, conv: 1.329)\n",
            "{garlic naan, pilau rice, plain papadum} -> {mint sauce} (conf: 0.337, supp: 0.013, lift: 2.652, conv: 1.317)\n",
            "{garlic naan, mango chutney} -> {mint sauce} (conf: 0.332, supp: 0.013, lift: 2.613, conv: 1.307)\n",
            "{garlic naan, mango chutney, plain papadum} -> {red sauce} (conf: 0.323, supp: 0.012, lift: 4.377, conv: 1.369)\n",
            "{garlic naan, mango chutney, plain papadum} -> {onion chutney} (conf: 0.315, supp: 0.011, lift: 3.412, conv: 1.325)\n",
            "{garlic naan, mango chutney} -> {mint sauce, plain papadum} (conf: 0.312, supp: 0.012, lift: 3.130, conv: 1.308)\n",
            "{garlic naan, mango chutney, plain papadum} -> {bombay aloo} (conf: 0.308, supp: 0.011, lift: 1.467, conv: 1.142)\n",
            "{garlic naan, mango chutney} -> {red sauce} (conf: 0.305, supp: 0.012, lift: 4.130, conv: 1.333)\n",
            "{garlic naan, mango chutney, plain papadum} -> {mini bhaji} (conf: 0.304, supp: 0.011, lift: 3.474, conv: 1.311)\n",
            "{bombay aloo, garlic naan} -> {mango chutney} (conf: 0.302, supp: 0.012, lift: 1.726, conv: 1.182)\n",
            "{garlic naan, mushroom rice} -> {pilau rice} (conf: 0.301, supp: 0.012, lift: 0.707, conv: 0.822)\n",
            "{garlic naan, mango chutney} -> {bombay aloo} (conf: 0.300, supp: 0.012, lift: 1.429, conv: 1.129)\n",
            "{garlic naan, mango chutney} -> {onion chutney} (conf: 0.296, supp: 0.012, lift: 3.209, conv: 1.290)\n",
            "{garlic naan, mango chutney} -> {plain papadum, red sauce} (conf: 0.294, supp: 0.012, lift: 4.706, conv: 1.328)\n",
            "{garlic naan, pilau rice, plain papadum} -> {naan} (conf: 0.290, supp: 0.011, lift: 0.855, conv: 0.930)\n",
            "{garlic naan, pilau rice, plain papadum} -> {chicken tikka masala} (conf: 0.289, supp: 0.011, lift: 1.629, conv: 1.157)\n",
            "{garlic naan, naan} -> {pilau rice, plain papadum} (conf: 0.286, supp: 0.011, lift: 1.737, conv: 1.170)\n",
            "{garlic naan, plain papadum} -> {mint sauce} (conf: 0.286, supp: 0.021, lift: 2.254, conv: 1.223)\n",
            "{garlic naan, pilau rice} -> {chicken tikka masala} (conf: 0.286, supp: 0.026, lift: 1.613, conv: 1.152)\n",
            "{garlic naan, mango chutney} -> {mini bhaji} (conf: 0.286, supp: 0.011, lift: 3.272, conv: 1.278)\n",
            "{garlic naan, mango chutney} -> {onion chutney, plain papadum} (conf: 0.286, supp: 0.011, lift: 3.712, conv: 1.293)\n",
            "{bombay aloo, garlic naan} -> {mango chutney, plain papadum} (conf: 0.281, supp: 0.011, lift: 1.878, conv: 1.183)\n",
            "{garlic naan, mango chutney} -> {bombay aloo, plain papadum} (conf: 0.280, supp: 0.011, lift: 3.471, conv: 1.276)\n",
            "{garlic naan, pilau rice, plain papadum} -> {bombay aloo} (conf: 0.279, supp: 0.010, lift: 1.331, conv: 1.096)\n",
            "{garlic naan, mango chutney} -> {mini bhaji, plain papadum} (conf: 0.276, supp: 0.011, lift: 7.183, conv: 1.328)\n",
            "{garlic naan, mushroom rice} -> {chicken tikka masala} (conf: 0.275, supp: 0.011, lift: 1.550, conv: 1.134)\n",
            "{garlic naan, plain papadum} -> {red sauce} (conf: 0.270, supp: 0.020, lift: 3.652, conv: 1.268)\n",
            "{garlic naan, plain papadum} -> {mango chutney, pilau rice} (conf: 0.264, supp: 0.020, lift: 3.031, conv: 1.241)\n",
            "{chicken tikka masala, garlic naan} -> {pilau rice, plain papadum} (conf: 0.262, supp: 0.011, lift: 1.591, conv: 1.132)\n",
            "{garlic naan, plain papadum} -> {bombay aloo} (conf: 0.262, supp: 0.019, lift: 1.249, conv: 1.071)\n",
            "{bombay aloo, garlic naan} -> {pilau rice, plain papadum} (conf: 0.262, supp: 0.010, lift: 1.588, conv: 1.131)\n",
            "{chicken tikka masala, garlic naan} -> {mushroom rice} (conf: 0.261, supp: 0.011, lift: 1.733, conv: 1.150)\n",
            "{garlic naan, pilau rice} -> {bombay aloo} (conf: 0.240, supp: 0.022, lift: 1.143, conv: 1.039)\n",
            "{garlic naan, pilau rice} -> {naan} (conf: 0.239, supp: 0.022, lift: 0.703, conv: 0.867)\n",
            "{garlic naan, pilau rice} -> {mango chutney} (conf: 0.232, supp: 0.021, lift: 1.329, conv: 1.075)\n",
            "{garlic naan, plain papadum} -> {chicken tikka masala} (conf: 0.214, supp: 0.016, lift: 1.208, conv: 1.047)\n",
            "{garlic naan, plain papadum} -> {mushroom rice} (conf: 0.214, supp: 0.016, lift: 1.417, conv: 1.080)\n",
            "{garlic naan, pilau rice} -> {mango chutney, plain papadum} (conf: 0.212, supp: 0.020, lift: 1.416, conv: 1.079)\n",
            "{garlic naan, plain papadum} -> {onion bhaji} (conf: 0.211, supp: 0.016, lift: 1.154, conv: 1.036)\n",
            "{garlic naan, plain papadum} -> {mini bhaji} (conf: 0.209, supp: 0.015, lift: 2.388, conv: 1.153)\n",
            "{garlic naan, plain papadum} -> {onion chutney} (conf: 0.206, supp: 0.015, lift: 2.232, conv: 1.143)\n",
            "{garlic naan} -> {chicken tikka masala} (conf: 0.205, supp: 0.041, lift: 1.156, conv: 1.035)\n",
            "{garlic naan, plain papadum} -> {naan} (conf: 0.205, supp: 0.015, lift: 0.602, conv: 0.830)\n"
          ]
        }
      ]
    },
    {
      "cell_type": "code",
      "execution_count": 20,
      "metadata": {
        "colab": {
          "base_uri": "https://localhost:8080/"
        },
        "collapsed": true,
        "id": "PyR5ojVkG-NB",
        "outputId": "e82ee4a7-22e4-4885-c6b0-ad825caae5fe"
      },
      "outputs": [
        {
          "output_type": "stream",
          "name": "stdout",
          "text": [
            "{chicken chaat (main)} -> {bombay aloo} (conf: 0.691, supp: 0.017, lift: 3.291, conv: 2.558)\n",
            "{onion chutney} -> {mango chutney} (conf: 0.560, supp: 0.052, lift: 3.207, conv: 1.877)\n",
            "{mango chutney} -> {onion chutney} (conf: 0.296, supp: 0.052, lift: 3.207, conv: 1.289)\n",
            "{red sauce} -> {onion chutney} (conf: 0.292, supp: 0.022, lift: 3.161, conv: 1.282)\n",
            "{onion chutney} -> {red sauce} (conf: 0.234, supp: 0.022, lift: 3.161, conv: 1.208)\n",
            "{lime pickle} -> {mango chutney} (conf: 0.543, supp: 0.011, lift: 3.106, conv: 1.805)\n",
            "{onion chutney} -> {mint sauce} (conf: 0.387, supp: 0.036, lift: 3.048, conv: 1.425)\n",
            "{mint sauce} -> {onion chutney} (conf: 0.281, supp: 0.036, lift: 3.048, conv: 1.263)\n",
            "{keema rice} -> {keema naan} (conf: 0.377, supp: 0.011, lift: 3.007, conv: 1.403)\n",
            "{red sauce} -> {mint sauce} (conf: 0.372, supp: 0.028, lift: 2.930, conv: 1.391)\n",
            "{mint sauce} -> {red sauce} (conf: 0.217, supp: 0.028, lift: 2.930, conv: 1.182)\n",
            "{red sauce} -> {mango chutney} (conf: 0.509, supp: 0.038, lift: 2.911, conv: 1.679)\n",
            "{mango chutney} -> {red sauce} (conf: 0.215, supp: 0.038, lift: 2.911, conv: 1.180)\n",
            "{spicy papadum} -> {mint sauce} (conf: 0.359, supp: 0.011, lift: 2.823, conv: 1.361)\n",
            "{vegetable samosa} -> {mini bhaji} (conf: 0.236, supp: 0.011, lift: 2.694, conv: 1.194)\n",
            "{plain papadum} -> {mango chutney} (conf: 0.457, supp: 0.150, lift: 2.618, conv: 1.521)\n",
            "{mango chutney} -> {plain papadum} (conf: 0.856, supp: 0.150, lift: 2.618, conv: 4.688)\n",
            "{red sauce} -> {plain papadum} (conf: 0.844, supp: 0.062, lift: 2.581, conv: 4.326)\n",
            "{mint sauce} -> {mango chutney} (conf: 0.448, supp: 0.057, lift: 2.564, conv: 1.495)\n",
            "{mango chutney} -> {mint sauce} (conf: 0.326, supp: 0.057, lift: 2.564, conv: 1.295)\n",
            "{plain papadum} -> {onion chutney} (conf: 0.236, supp: 0.077, lift: 2.552, conv: 1.187)\n",
            "{onion chutney} -> {plain papadum} (conf: 0.835, supp: 0.077, lift: 2.552, conv: 4.071)\n",
            "{plain papadum} -> {mint sauce} (conf: 0.304, supp: 0.100, lift: 2.395, conv: 1.255)\n",
            "{mint sauce} -> {plain papadum} (conf: 0.783, supp: 0.100, lift: 2.395, conv: 3.107)\n",
            "{lime pickle} -> {plain papadum} (conf: 0.754, supp: 0.015, lift: 2.304, conv: 2.733)\n",
            "{vegetable curry} -> {mango chutney} (conf: 0.378, supp: 0.011, lift: 2.162, conv: 1.326)\n",
            "{chicken chaat (main)} -> {naan} (conf: 0.693, supp: 0.017, lift: 2.040, conv: 2.153)\n",
            "{korma} -> {peshwari naan} (conf: 0.214, supp: 0.018, lift: 1.936, conv: 1.132)\n",
            "{special fried rice} -> {keema naan} (conf: 0.242, supp: 0.012, lift: 1.928, conv: 1.153)\n",
            "{spicy papadum} -> {plain papadum} (conf: 0.628, supp: 0.019, lift: 1.919, conv: 1.808)\n",
            "{spicy papadum} -> {mango chutney} (conf: 0.335, supp: 0.010, lift: 1.917, conv: 1.241)\n",
            "{chicken tikka jalfrezi} -> {mushroom rice} (conf: 0.276, supp: 0.011, lift: 1.830, conv: 1.173)\n",
            "{saag aloo} -> {peshwari naan} (conf: 0.202, supp: 0.021, lift: 1.823, conv: 1.114)\n",
            "{meat samosa} -> {keema naan} (conf: 0.228, supp: 0.012, lift: 1.821, conv: 1.133)\n",
            "{meat samosa} -> {onion bhaji} (conf: 0.332, supp: 0.018, lift: 1.815, conv: 1.223)\n",
            "{vegetable samosa} -> {onion bhaji} (conf: 0.329, supp: 0.015, lift: 1.799, conv: 1.218)\n",
            "{french fries} -> {plain rice} (conf: 0.251, supp: 0.011, lift: 1.759, conv: 1.144)\n",
            "{saag aloo} -> {mushroom rice} (conf: 0.255, supp: 0.026, lift: 1.689, conv: 1.139)\n",
            "{mini bhaji} -> {mango chutney} (conf: 0.295, supp: 0.026, lift: 1.688, conv: 1.170)\n",
            "{curry} -> {plain rice} (conf: 0.239, supp: 0.012, lift: 1.677, conv: 1.127)\n",
            "{mini bhaji} -> {garlic naan} (conf: 0.329, supp: 0.029, lift: 1.648, conv: 1.193)\n",
            "{tandoori mixed grill} -> {garlic naan} (conf: 0.325, supp: 0.017, lift: 1.629, conv: 1.186)\n",
            "{chapati} -> {plain rice} (conf: 0.229, supp: 0.016, lift: 1.610, conv: 1.113)\n",
            "{onion chutney} -> {onion bhaji} (conf: 0.293, supp: 0.027, lift: 1.604, conv: 1.156)\n",
            "{butter chicken} -> {keema naan} (conf: 0.201, supp: 0.015, lift: 1.602, conv: 1.094)\n",
            "{red sauce} -> {garlic naan} (conf: 0.316, supp: 0.023, lift: 1.584, conv: 1.170)\n",
            "{korma} -> {plain rice} (conf: 0.225, supp: 0.019, lift: 1.577, conv: 1.106)\n",
            "{keema naan} -> {chicken tikka masala} (conf: 0.279, supp: 0.035, lift: 1.572, conv: 1.141)\n",
            "{korma chicken} -> {mushroom rice} (conf: 0.236, supp: 0.014, lift: 1.568, conv: 1.112)\n",
            "{chicken tikka jalfrezi} -> {garlic naan} (conf: 0.309, supp: 0.013, lift: 1.551, conv: 1.159)\n",
            "{mint sauce} -> {plain rice} (conf: 0.217, supp: 0.028, lift: 1.523, conv: 1.095)\n",
            "{keema naan} -> {mushroom rice} (conf: 0.228, supp: 0.029, lift: 1.511, conv: 1.100)\n",
            "{pilau rice} -> {chicken tikka masala} (conf: 0.267, supp: 0.114, lift: 1.504, conv: 1.122)\n",
            "{chicken tikka masala} -> {pilau rice} (conf: 0.640, supp: 0.114, lift: 1.504, conv: 1.597)\n",
            "{onion bhaji} -> {mushroom rice} (conf: 0.225, supp: 0.041, lift: 1.494, conv: 1.096)\n",
            "{mushroom rice} -> {onion bhaji} (conf: 0.273, supp: 0.041, lift: 1.494, conv: 1.124)\n",
            "{french fries} -> {plain papadum} (conf: 0.487, supp: 0.021, lift: 1.489, conv: 1.312)\n",
            "{mushroom rice} -> {chicken tikka masala} (conf: 0.264, supp: 0.040, lift: 1.486, conv: 1.117)\n",
            "{chicken tikka masala} -> {mushroom rice} (conf: 0.224, supp: 0.040, lift: 1.486, conv: 1.094)\n",
            "{vegetable curry} -> {plain papadum} (conf: 0.482, supp: 0.014, lift: 1.472, conv: 1.298)\n",
            "{madras chicken} -> {mushroom rice} (conf: 0.222, supp: 0.011, lift: 1.470, conv: 1.091)\n",
            "{dhansak} -> {naan} (conf: 0.499, supp: 0.012, lift: 1.468, conv: 1.318)\n",
            "{mint sauce} -> {chicken tikka masala} (conf: 0.260, supp: 0.033, lift: 1.465, conv: 1.111)\n",
            "{madras} -> {plain rice} (conf: 0.208, supp: 0.018, lift: 1.464, conv: 1.083)\n",
            "{curry chicken} -> {pilau rice} (conf: 0.620, supp: 0.017, lift: 1.455, conv: 1.510)\n",
            "{curry chicken} -> {naan} (conf: 0.492, supp: 0.013, lift: 1.447, conv: 1.299)\n",
            "{butter chicken} -> {plain rice} (conf: 0.206, supp: 0.016, lift: 1.446, conv: 1.080)\n",
            "{onion bhaji} -> {mango chutney} (conf: 0.252, supp: 0.046, lift: 1.443, conv: 1.104)\n",
            "{mango chutney} -> {onion bhaji} (conf: 0.264, supp: 0.046, lift: 1.443, conv: 1.110)\n",
            "{mix starter} -> {plain papadum} (conf: 0.470, supp: 0.011, lift: 1.438, conv: 1.271)\n",
            "{korma chicken} -> {plain rice} (conf: 0.205, supp: 0.013, lift: 1.437, conv: 1.078)\n",
            "{vegetable curry} -> {pilau rice} (conf: 0.608, supp: 0.018, lift: 1.428, conv: 1.465)\n",
            "{korma} -> {garlic naan} (conf: 0.285, supp: 0.025, lift: 1.428, conv: 1.119)\n",
            "{peshwari naan} -> {chicken tikka masala} (conf: 0.253, supp: 0.028, lift: 1.427, conv: 1.101)\n",
            "{mushroom bhajee} -> {plain papadum} (conf: 0.462, supp: 0.014, lift: 1.412, conv: 1.250)\n",
            "{plain rice} -> {naan} (conf: 0.479, supp: 0.068, lift: 1.411, conv: 1.268)\n",
            "{naan} -> {plain rice} (conf: 0.201, supp: 0.068, lift: 1.411, conv: 1.073)\n",
            "{aloo gobi} -> {chicken tikka masala} (conf: 0.246, supp: 0.010, lift: 1.388, conv: 1.091)\n",
            "{keema naan} -> {onion bhaji} (conf: 0.253, supp: 0.032, lift: 1.382, conv: 1.093)\n",
            "{red sauce} -> {bombay aloo} (conf: 0.289, supp: 0.021, lift: 1.377, conv: 1.111)\n",
            "{korma} -> {mushroom rice} (conf: 0.206, supp: 0.018, lift: 1.369, conv: 1.070)\n",
            "{chicken tikka pasanda} -> {pilau rice} (conf: 0.583, supp: 0.013, lift: 1.368, conv: 1.376)\n",
            "{madras chicken} -> {pilau rice} (conf: 0.581, supp: 0.028, lift: 1.366, conv: 1.372)\n",
            "{korma} -> {pilau rice} (conf: 0.581, supp: 0.050, lift: 1.365, conv: 1.372)\n",
            "{curry} -> {naan} (conf: 0.463, supp: 0.024, lift: 1.362, conv: 1.229)\n",
            "{korma chicken} -> {pilau rice} (conf: 0.579, supp: 0.035, lift: 1.360, conv: 1.364)\n",
            "{french fries} -> {naan} (conf: 0.461, supp: 0.020, lift: 1.358, conv: 1.226)\n",
            "{korma} -> {mango chutney} (conf: 0.237, supp: 0.020, lift: 1.356, conv: 1.082)\n",
            "{peshwari naan} -> {mushroom rice} (conf: 0.203, supp: 0.022, lift: 1.349, conv: 1.066)\n",
            "{butter chicken} -> {garlic naan} (conf: 0.268, supp: 0.021, lift: 1.344, conv: 1.094)\n",
            "{mini bhaji} -> {plain papadum} (conf: 0.439, supp: 0.038, lift: 1.343, conv: 1.200)\n",
            "{saag aloo} -> {garlic naan} (conf: 0.267, supp: 0.028, lift: 1.338, conv: 1.092)\n",
            "{prawn puree} -> {garlic naan} (conf: 0.267, supp: 0.010, lift: 1.337, conv: 1.092)\n",
            "{naan} -> {bombay aloo} (conf: 0.280, supp: 0.095, lift: 1.331, conv: 1.097)\n",
            "{bombay aloo} -> {naan} (conf: 0.452, supp: 0.095, lift: 1.331, conv: 1.205)\n",
            "{korma} -> {naan} (conf: 0.450, supp: 0.039, lift: 1.326, conv: 1.201)\n",
            "{peshwari naan} -> {onion bhaji} (conf: 0.240, supp: 0.027, lift: 1.314, conv: 1.076)\n",
            "{madras} -> {bombay aloo} (conf: 0.275, supp: 0.023, lift: 1.308, conv: 1.089)\n",
            "{chicken tikka jalfrezi} -> {plain papadum} (conf: 0.427, supp: 0.017, lift: 1.306, conv: 1.175)\n",
            "{chicken tikka} -> {bombay aloo} (conf: 0.274, supp: 0.014, lift: 1.305, conv: 1.088)\n",
            "{plain rice} -> {mango chutney} (conf: 0.228, supp: 0.032, lift: 1.302, conv: 1.068)\n",
            "{plain papadum} -> {onion bhaji} (conf: 0.238, supp: 0.078, lift: 1.301, conv: 1.072)\n",
            "{onion bhaji} -> {plain papadum} (conf: 0.426, supp: 0.078, lift: 1.301, conv: 1.171)\n",
            "{keema naan} -> {bombay aloo} (conf: 0.272, supp: 0.034, lift: 1.293, conv: 1.085)\n",
            "{vegetable curry} -> {naan} (conf: 0.439, supp: 0.013, lift: 1.293, conv: 1.178)\n",
            "{mushroom rice} -> {garlic naan} (conf: 0.258, supp: 0.039, lift: 1.293, conv: 1.079)\n",
            "{naan} -> {chicken tikka masala} (conf: 0.228, supp: 0.077, lift: 1.284, conv: 1.065)\n",
            "{chicken tikka masala} -> {naan} (conf: 0.436, supp: 0.077, lift: 1.284, conv: 1.171)\n",
            "{plain rice} -> {plain papadum} (conf: 0.420, supp: 0.060, lift: 1.283, conv: 1.159)\n",
            "{chicken tikka jalfrezi} -> {pilau rice} (conf: 0.545, supp: 0.022, lift: 1.281, conv: 1.263)\n",
            "{butter chicken} -> {pilau rice} (conf: 0.545, supp: 0.042, lift: 1.279, conv: 1.261)\n",
            "{plain rice} -> {chicken tikka masala} (conf: 0.227, supp: 0.032, lift: 1.279, conv: 1.064)\n",
            "{korma chicken} -> {naan} (conf: 0.432, supp: 0.026, lift: 1.271, conv: 1.162)\n",
            "{korma} -> {plain papadum} (conf: 0.416, supp: 0.036, lift: 1.271, conv: 1.152)\n",
            "{paratha} -> {plain papadum} (conf: 0.415, supp: 0.012, lift: 1.269, conv: 1.151)\n",
            "{vegetable rice} -> {plain papadum} (conf: 0.415, supp: 0.011, lift: 1.268, conv: 1.150)\n",
            "{chicken tikka (main)} -> {plain papadum} (conf: 0.415, supp: 0.028, lift: 1.268, conv: 1.150)\n",
            "{sheek kehab} -> {plain papadum} (conf: 0.414, supp: 0.013, lift: 1.266, conv: 1.148)\n",
            "{special fried rice} -> {mango chutney} (conf: 0.221, supp: 0.011, lift: 1.264, conv: 1.059)\n",
            "{special fried rice} -> {onion bhaji} (conf: 0.231, supp: 0.012, lift: 1.262, conv: 1.062)\n",
            "{madras chicken} -> {naan} (conf: 0.428, supp: 0.020, lift: 1.260, conv: 1.154)\n",
            "{peshwari naan} -> {pilau rice} (conf: 0.536, supp: 0.059, lift: 1.258, conv: 1.237)\n",
            "{madras chicken} -> {bombay aloo} (conf: 0.264, supp: 0.013, lift: 1.258, conv: 1.074)\n",
            "{pilau rice} -> {bombay aloo} (conf: 0.264, supp: 0.112, lift: 1.255, conv: 1.073)\n",
            "{bombay aloo} -> {pilau rice} (conf: 0.534, supp: 0.112, lift: 1.255, conv: 1.233)\n",
            "{keema naan} -> {pilau rice} (conf: 0.534, supp: 0.067, lift: 1.255, conv: 1.233)\n",
            "{chicken balti} -> {pilau rice} (conf: 0.533, supp: 0.016, lift: 1.252, conv: 1.229)\n",
            "{chicken tikka (main)} -> {garlic naan} (conf: 0.249, supp: 0.017, lift: 1.251, conv: 1.067)\n",
            "{keema naan} -> {mango chutney} (conf: 0.218, supp: 0.027, lift: 1.250, conv: 1.056)\n",
            "{korma chicken} -> {garlic naan} (conf: 0.249, supp: 0.015, lift: 1.247, conv: 1.066)\n",
            "{chicken tikka masala} -> {bombay aloo} (conf: 0.262, supp: 0.046, lift: 1.245, conv: 1.070)\n",
            "{bombay aloo} -> {chicken tikka masala} (conf: 0.221, supp: 0.046, lift: 1.245, conv: 1.056)\n",
            "{red sauce} -> {chicken tikka masala} (conf: 0.220, supp: 0.016, lift: 1.242, conv: 1.055)\n",
            "{madras} -> {pilau rice} (conf: 0.527, supp: 0.045, lift: 1.238, conv: 1.214)\n",
            "{korma chicken} -> {mango chutney} (conf: 0.215, supp: 0.013, lift: 1.233, conv: 1.052)\n",
            "{vegetable samosa} -> {garlic naan} (conf: 0.246, supp: 0.011, lift: 1.231, conv: 1.061)\n",
            "{pilau rice} -> {naan} (conf: 0.418, supp: 0.178, lift: 1.231, conv: 1.135)\n",
            "{naan} -> {pilau rice} (conf: 0.524, supp: 0.178, lift: 1.231, conv: 1.206)\n",
            "{plain rice} -> {bombay aloo} (conf: 0.258, supp: 0.037, lift: 1.228, conv: 1.064)\n",
            "{mushroom bhajee} -> {pilau rice} (conf: 0.523, supp: 0.015, lift: 1.227, conv: 1.203)\n",
            "{korma chicken} -> {plain papadum} (conf: 0.401, supp: 0.025, lift: 1.226, conv: 1.123)\n",
            "{onion bhaji} -> {chicken tikka masala} (conf: 0.216, supp: 0.039, lift: 1.218, conv: 1.049)\n",
            "{chicken tikka masala} -> {onion bhaji} (conf: 0.223, supp: 0.039, lift: 1.218, conv: 1.051)\n",
            "{mint sauce} -> {pilau rice} (conf: 0.518, supp: 0.066, lift: 1.216, conv: 1.190)\n",
            "{mini bhaji} -> {chicken tikka masala} (conf: 0.215, supp: 0.019, lift: 1.213, conv: 1.048)\n",
            "{curry} -> {pilau rice} (conf: 0.515, supp: 0.026, lift: 1.211, conv: 1.185)\n",
            "{onion chutney} -> {pilau rice} (conf: 0.513, supp: 0.047, lift: 1.206, conv: 1.180)\n",
            "{chicken chaat} -> {plain papadum} (conf: 0.393, supp: 0.014, lift: 1.201, conv: 1.109)\n",
            "{chicken biryani} -> {naan} (conf: 0.406, supp: 0.019, lift: 1.196, conv: 1.112)\n",
            "{korma} -> {onion bhaji} (conf: 0.218, supp: 0.019, lift: 1.194, conv: 1.045)\n",
            "{naan} -> {mango chutney} (conf: 0.208, supp: 0.071, lift: 1.192, conv: 1.042)\n",
            "{mango chutney} -> {naan} (conf: 0.405, supp: 0.071, lift: 1.192, conv: 1.110)\n",
            "{curry} -> {bombay aloo} (conf: 0.250, supp: 0.013, lift: 1.189, conv: 1.053)\n",
            "{special fried rice} -> {chicken tikka masala} (conf: 0.211, supp: 0.011, lift: 1.189, conv: 1.042)\n",
            "{madras} -> {naan} (conf: 0.403, supp: 0.034, lift: 1.187, conv: 1.106)\n",
            "{saag aloo} -> {mango chutney} (conf: 0.207, supp: 0.021, lift: 1.184, conv: 1.041)\n",
            "{plain papadum} -> {pilau rice} (conf: 0.504, supp: 0.165, lift: 1.184, conv: 1.158)\n",
            "{pilau rice} -> {plain papadum} (conf: 0.387, supp: 0.165, lift: 1.184, conv: 1.098)\n",
            "{bhuna} -> {plain papadum} (conf: 0.386, supp: 0.013, lift: 1.180, conv: 1.096)\n",
            "{mango chutney} -> {chicken tikka masala} (conf: 0.208, supp: 0.036, lift: 1.175, conv: 1.039)\n",
            "{chicken tikka masala} -> {mango chutney} (conf: 0.205, supp: 0.036, lift: 1.175, conv: 1.039)\n",
            "{plain papadum} -> {bombay aloo} (conf: 0.246, supp: 0.081, lift: 1.173, conv: 1.048)\n",
            "{bombay aloo} -> {plain papadum} (conf: 0.384, supp: 0.081, lift: 1.173, conv: 1.092)\n",
            "{pilau rice} -> {mango chutney} (conf: 0.205, supp: 0.087, lift: 1.173, conv: 1.038)\n",
            "{mango chutney} -> {pilau rice} (conf: 0.499, supp: 0.087, lift: 1.173, conv: 1.147)\n",
            "{special fried rice} -> {garlic naan} (conf: 0.234, supp: 0.012, lift: 1.172, conv: 1.045)\n",
            "{chicken tikka} -> {naan} (conf: 0.397, supp: 0.020, lift: 1.169, conv: 1.095)\n",
            "{mango chutney} -> {bombay aloo} (conf: 0.245, supp: 0.043, lift: 1.165, conv: 1.046)\n",
            "{bombay aloo} -> {mango chutney} (conf: 0.203, supp: 0.043, lift: 1.165, conv: 1.036)\n",
            "{chicken tikka (main)} -> {onion bhaji} (conf: 0.213, supp: 0.014, lift: 1.164, conv: 1.038)\n",
            "{garlic naan} -> {chicken tikka masala} (conf: 0.205, supp: 0.041, lift: 1.156, conv: 1.035)\n",
            "{chicken tikka masala} -> {garlic naan} (conf: 0.231, supp: 0.041, lift: 1.156, conv: 1.040)\n",
            "{vegetable samosa} -> {plain papadum} (conf: 0.378, supp: 0.017, lift: 1.155, conv: 1.081)\n",
            "{butter chicken} -> {naan} (conf: 0.392, supp: 0.030, lift: 1.154, conv: 1.086)\n",
            "{chicken tikka (main)} -> {naan} (conf: 0.390, supp: 0.026, lift: 1.148, conv: 1.083)\n",
            "{saag aloo} -> {onion bhaji} (conf: 0.210, supp: 0.022, lift: 1.148, conv: 1.034)\n",
            "{red sauce} -> {pilau rice} (conf: 0.488, supp: 0.036, lift: 1.146, conv: 1.121)\n",
            "{chicken tikka (main)} -> {bombay aloo} (conf: 0.240, supp: 0.016, lift: 1.144, conv: 1.040)\n",
            "{mango chutney} -> {garlic naan} (conf: 0.228, supp: 0.040, lift: 1.143, conv: 1.037)\n",
            "{plain papadum} -> {chicken tikka masala} (conf: 0.202, supp: 0.066, lift: 1.140, conv: 1.031)\n",
            "{chicken tikka masala} -> {plain papadum} (conf: 0.373, supp: 0.066, lift: 1.140, conv: 1.073)\n",
            "{plain papadum} -> {naan} (conf: 0.387, supp: 0.127, lift: 1.140, conv: 1.077)\n",
            "{naan} -> {plain papadum} (conf: 0.373, supp: 0.127, lift: 1.140, conv: 1.073)\n",
            "{french fries} -> {bombay aloo} (conf: 0.239, supp: 0.010, lift: 1.138, conv: 1.038)\n",
            "{saag aloo} -> {plain papadum} (conf: 0.372, supp: 0.039, lift: 1.136, conv: 1.071)\n",
            "{plain papadum} -> {garlic naan} (conf: 0.226, supp: 0.074, lift: 1.135, conv: 1.035)\n",
            "{garlic naan} -> {plain papadum} (conf: 0.371, supp: 0.074, lift: 1.135, conv: 1.070)\n",
            "{aloo gobi} -> {pilau rice} (conf: 0.481, supp: 0.020, lift: 1.130, conv: 1.107)\n",
            "{chicken tikka jalfrezi} -> {naan} (conf: 0.384, supp: 0.016, lift: 1.130, conv: 1.072)\n",
            "{meat samosa} -> {chicken tikka masala} (conf: 0.200, supp: 0.011, lift: 1.130, conv: 1.029)\n",
            "{mint sauce} -> {onion bhaji} (conf: 0.205, supp: 0.026, lift: 1.124, conv: 1.028)\n",
            "{onion chutney} -> {bombay aloo} (conf: 0.236, supp: 0.022, lift: 1.123, conv: 1.034)\n",
            "{chicken tikka (main)} -> {pilau rice} (conf: 0.474, supp: 0.032, lift: 1.114, conv: 1.092)\n",
            "{keema naan} -> {plain papadum} (conf: 0.364, supp: 0.046, lift: 1.113, conv: 1.058)\n",
            "{madras} -> {garlic naan} (conf: 0.221, supp: 0.019, lift: 1.108, conv: 1.028)\n",
            "{chicken chaat} -> {naan} (conf: 0.376, supp: 0.013, lift: 1.106, conv: 1.058)\n",
            "{prawn puree} -> {pilau rice} (conf: 0.469, supp: 0.018, lift: 1.103, conv: 1.082)\n",
            "{mint sauce} -> {naan} (conf: 0.373, supp: 0.047, lift: 1.099, conv: 1.054)\n",
            "{aloo gobi} -> {plain papadum} (conf: 0.359, supp: 0.015, lift: 1.099, conv: 1.050)\n",
            "{chicken biryani} -> {garlic naan} (conf: 0.219, supp: 0.010, lift: 1.096, conv: 1.024)\n",
            "{bhuna} -> {pilau rice} (conf: 0.464, supp: 0.015, lift: 1.090, conv: 1.071)\n",
            "{pilau rice} -> {garlic naan} (conf: 0.217, supp: 0.092, lift: 1.089, conv: 1.023)\n",
            "{garlic naan} -> {pilau rice} (conf: 0.464, supp: 0.092, lift: 1.089, conv: 1.070)\n",
            "{special fried rice} -> {plain papadum} (conf: 0.355, supp: 0.018, lift: 1.087, conv: 1.044)\n",
            "{paratha} -> {pilau rice} (conf: 0.462, supp: 0.014, lift: 1.085, conv: 1.067)\n",
            "{madras chicken} -> {garlic naan} (conf: 0.216, supp: 0.010, lift: 1.084, conv: 1.021)\n",
            "{saag aloo} -> {pilau rice} (conf: 0.462, supp: 0.048, lift: 1.084, conv: 1.066)\n",
            "{chicken tikka} -> {plain papadum} (conf: 0.355, supp: 0.018, lift: 1.084, conv: 1.042)\n",
            "{chicken biryani} -> {plain papadum} (conf: 0.353, supp: 0.017, lift: 1.079, conv: 1.040)\n",
            "{mint sauce} -> {bombay aloo} (conf: 0.226, supp: 0.029, lift: 1.077, conv: 1.021)\n",
            "{chicken tikka} -> {garlic naan} (conf: 0.214, supp: 0.011, lift: 1.076, conv: 1.019)\n",
            "{sheek kehab} -> {pilau rice} (conf: 0.457, supp: 0.014, lift: 1.074, conv: 1.058)\n",
            "{madras chicken} -> {plain papadum} (conf: 0.351, supp: 0.017, lift: 1.074, conv: 1.037)\n",
            "{red sauce} -> {naan} (conf: 0.364, supp: 0.027, lift: 1.072, conv: 1.038)\n",
            "{onion bhaji} -> {pilau rice} (conf: 0.455, supp: 0.083, lift: 1.069, conv: 1.054)\n",
            "{tandoori mixed grill} -> {naan} (conf: 0.363, supp: 0.019, lift: 1.068, conv: 1.036)\n",
            "{chicken chaat} -> {pilau rice} (conf: 0.454, supp: 0.016, lift: 1.066, conv: 1.051)\n",
            "{madras} -> {plain papadum} (conf: 0.348, supp: 0.030, lift: 1.065, conv: 1.033)\n",
            "{vegetable samosa} -> {naan} (conf: 0.361, supp: 0.017, lift: 1.063, conv: 1.033)\n",
            "{curry} -> {plain papadum} (conf: 0.346, supp: 0.018, lift: 1.058, conv: 1.029)\n",
            "{meat samosa} -> {naan} (conf: 0.359, supp: 0.019, lift: 1.055, conv: 1.029)\n",
            "{mini bhaji} -> {pilau rice} (conf: 0.446, supp: 0.039, lift: 1.048, conv: 1.037)\n",
            "{vegetable samosa} -> {pilau rice} (conf: 0.440, supp: 0.020, lift: 1.033, conv: 1.025)\n",
            "{chapati} -> {plain papadum} (conf: 0.338, supp: 0.023, lift: 1.032, conv: 1.016)\n",
            "{dhansak} -> {pilau rice} (conf: 0.431, supp: 0.010, lift: 1.012, conv: 1.009)\n",
            "{onion chutney} -> {naan} (conf: 0.344, supp: 0.032, lift: 1.012, conv: 1.006)\n",
            "{mini bhaji} -> {naan} (conf: 0.343, supp: 0.030, lift: 1.008, conv: 1.004)\n",
            "{mushroom rice} -> {plain papadum} (conf: 0.329, supp: 0.050, lift: 1.007, conv: 1.003)\n",
            "{korma chicken} -> {bombay aloo} (conf: 0.211, supp: 0.013, lift: 1.006, conv: 1.002)\n",
            "{paratha} -> {naan} (conf: 0.341, supp: 0.010, lift: 1.003, conv: 1.002)\n",
            "{onion bhaji} -> {bombay aloo} (conf: 0.209, supp: 0.038, lift: 0.994, conv: 0.998)\n",
            "{korma} -> {bombay aloo} (conf: 0.208, supp: 0.018, lift: 0.988, conv: 0.997)\n",
            "{mushroom rice} -> {bombay aloo} (conf: 0.207, supp: 0.031, lift: 0.987, conv: 0.997)\n",
            "{prawn puree} -> {plain papadum} (conf: 0.322, supp: 0.012, lift: 0.985, conv: 0.993)\n",
            "{sheek kehab} -> {naan} (conf: 0.332, supp: 0.011, lift: 0.978, conv: 0.989)\n",
            "{onion bhaji} -> {naan} (conf: 0.331, supp: 0.060, lift: 0.973, conv: 0.986)\n",
            "{saag paneer} -> {naan} (conf: 0.329, supp: 0.012, lift: 0.967, conv: 0.983)\n",
            "{butter chicken} -> {plain papadum} (conf: 0.312, supp: 0.024, lift: 0.954, conv: 0.978)\n",
            "{spicy papadum} -> {pilau rice} (conf: 0.401, supp: 0.012, lift: 0.942, conv: 0.959)\n",
            "{chicken tikka biryani} -> {plain papadum} (conf: 0.304, supp: 0.010, lift: 0.931, conv: 0.967)\n",
            "{bhuna} -> {naan} (conf: 0.316, supp: 0.010, lift: 0.929, conv: 0.965)\n",
            "{meat samosa} -> {pilau rice} (conf: 0.395, supp: 0.021, lift: 0.928, conv: 0.949)\n",
            "{lamb biryani} -> {naan} (conf: 0.313, supp: 0.011, lift: 0.921, conv: 0.961)\n",
            "{saag paneer} -> {plain papadum} (conf: 0.299, supp: 0.011, lift: 0.915, conv: 0.960)\n",
            "{meat samosa} -> {plain papadum} (conf: 0.299, supp: 0.016, lift: 0.914, conv: 0.960)\n",
            "{peshwari naan} -> {plain papadum} (conf: 0.298, supp: 0.033, lift: 0.910, conv: 0.958)\n",
            "{saag paneer} -> {pilau rice} (conf: 0.386, supp: 0.014, lift: 0.907, conv: 0.935)\n",
            "{aloo gobi} -> {naan} (conf: 0.306, supp: 0.013, lift: 0.901, conv: 0.951)\n",
            "{tandoori mixed grill} -> {plain papadum} (conf: 0.290, supp: 0.016, lift: 0.888, conv: 0.948)\n",
            "{chapati} -> {pilau rice} (conf: 0.376, supp: 0.026, lift: 0.882, conv: 0.920)\n",
            "{saag aloo} -> {naan} (conf: 0.296, supp: 0.031, lift: 0.870, conv: 0.937)\n",
            "{special fried rice} -> {naan} (conf: 0.293, supp: 0.015, lift: 0.863, conv: 0.934)\n",
            "{chicken tikka} -> {pilau rice} (conf: 0.366, supp: 0.019, lift: 0.861, conv: 0.906)\n",
            "{tandoori mixed grill} -> {pilau rice} (conf: 0.350, supp: 0.019, lift: 0.821, conv: 0.883)\n",
            "{french fries} -> {pilau rice} (conf: 0.347, supp: 0.015, lift: 0.814, conv: 0.879)\n",
            "{mushroom rice} -> {naan} (conf: 0.270, supp: 0.041, lift: 0.795, conv: 0.904)\n",
            "{mushroom rice} -> {pilau rice} (conf: 0.325, supp: 0.049, lift: 0.763, conv: 0.850)\n",
            "{chicken biryani} -> {pilau rice} (conf: 0.310, supp: 0.015, lift: 0.729, conv: 0.832)\n",
            "{chapati} -> {naan} (conf: 0.214, supp: 0.015, lift: 0.629, conv: 0.840)\n",
            "{plain rice} -> {pilau rice} (conf: 0.232, supp: 0.033, lift: 0.544, conv: 0.747)\n"
          ]
        }
      ],
      "source": [
        "# Print out every rule with 1 items on the left hand side and 1 item on the right hand side, sorted by lift\n",
        "rules_filtered = filter(lambda rule: len(rule.lhs) == 1 and len(rule.rhs) == 1, rules)\n",
        "for rule in sorted(rules_filtered, key=lambda rule: rule.lift, reverse=True):\n",
        "  print(rule)"
      ]
    }
  ],
  "metadata": {
    "colab": {
      "provenance": []
    },
    "kernelspec": {
      "display_name": "Python 3",
      "name": "python3"
    },
    "language_info": {
      "name": "python"
    }
  },
  "nbformat": 4,
  "nbformat_minor": 0
}